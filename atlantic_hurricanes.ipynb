{
 "cells": [
  {
   "cell_type": "code",
   "execution_count": null,
   "metadata": {},
   "outputs": [],
   "source": [
    "import pandas as pd\n",
    "import numpy as np\n",
    "import matplotlib.pyplot as plt\n",
    "import plotly.graph_objs as go\n",
    "import plotly.express as px\n",
    "import calendar\n"
   ]
  },
  {
   "attachments": {},
   "cell_type": "markdown",
   "metadata": {},
   "source": [
    "# Importing Atlantic Hurricane data"
   ]
  },
  {
   "attachments": {},
   "cell_type": "markdown",
   "metadata": {},
   "source": [
    "### Feature 1. Read TWO data files (JSON,CSV, Excel, etc.)."
   ]
  },
  {
   "cell_type": "code",
   "execution_count": null,
   "metadata": {},
   "outputs": [],
   "source": [
    "co2 = pd.read_csv('assets/co2_small.csv')\n",
    "co2.head()\n"
   ]
  },
  {
   "cell_type": "code",
   "execution_count": null,
   "metadata": {},
   "outputs": [],
   "source": [
    "df = pd.read_csv('assets/atlantic.csv')\n",
    "df.head()"
   ]
  },
  {
   "cell_type": "code",
   "execution_count": null,
   "metadata": {},
   "outputs": [],
   "source": [
    "df.shape"
   ]
  },
  {
   "attachments": {},
   "cell_type": "markdown",
   "metadata": {},
   "source": [
    "The naming convention was applied to hurricanes starting in 1950. This might indicate better data quality, so we will use hurricane data from 1950 to the most recent year in the dataset"
   ]
  },
  {
   "cell_type": "code",
   "execution_count": null,
   "metadata": {},
   "outputs": [],
   "source": [
    "#boolean indexing to df\n",
    "hurricanes = df[df['Date'] >= 19500000]\n",
    "hurricanes.head()"
   ]
  },
  {
   "cell_type": "code",
   "execution_count": null,
   "metadata": {},
   "outputs": [],
   "source": [
    "hurricanes.shape"
   ]
  },
  {
   "attachments": {},
   "cell_type": "markdown",
   "metadata": {},
   "source": [
    "Dropping unnecessary columns"
   ]
  },
  {
   "cell_type": "code",
   "execution_count": null,
   "metadata": {},
   "outputs": [],
   "source": [
    "hurricanes = hurricanes.drop(columns=['ID', 'Time', 'Event', 'Low Wind NE', 'Low Wind SE', 'Low Wind SW', 'Low Wind NW', 'Moderate Wind NE', 'Moderate Wind SE', 'Moderate Wind SW', 'Moderate Wind NW', 'High Wind NE', 'High Wind SE', 'High Wind SW', 'High Wind NW'], axis = 1,)"
   ]
  },
  {
   "cell_type": "code",
   "execution_count": null,
   "metadata": {},
   "outputs": [],
   "source": [
    "hurricanes.head()"
   ]
  },
  {
   "cell_type": "code",
   "execution_count": null,
   "metadata": {},
   "outputs": [],
   "source": [
    "hurricanes.info()"
   ]
  },
  {
   "attachments": {},
   "cell_type": "markdown",
   "metadata": {},
   "source": [
    "Converting to datetime "
   ]
  },
  {
   "cell_type": "code",
   "execution_count": null,
   "metadata": {},
   "outputs": [],
   "source": [
    "hurricanes['Date'] = pd.to_datetime(hurricanes['Date'].astype(str), format = '%Y %m %d')\n",
    "hurricanes"
   ]
  },
  {
   "attachments": {},
   "cell_type": "markdown",
   "metadata": {},
   "source": [
    "Adding seperate year and month columns"
   ]
  },
  {
   "cell_type": "code",
   "execution_count": null,
   "metadata": {},
   "outputs": [],
   "source": [
    "hurricanes['Year'] = hurricanes['Date'].map(lambda x: x.year)\n",
    "hurricanes['Month'] = hurricanes['Date'].map(lambda x: x.month)\n",
    "hurricanes.head()"
   ]
  },
  {
   "cell_type": "code",
   "execution_count": null,
   "metadata": {},
   "outputs": [],
   "source": [
    "print(hurricanes['Year'].unique())"
   ]
  },
  {
   "cell_type": "code",
   "execution_count": null,
   "metadata": {},
   "outputs": [],
   "source": [
    "print(hurricanes['Month'].unique())"
   ]
  },
  {
   "attachments": {},
   "cell_type": "markdown",
   "metadata": {},
   "source": [
    "According to this dataset, no values for March exist"
   ]
  },
  {
   "cell_type": "code",
   "execution_count": null,
   "metadata": {},
   "outputs": [],
   "source": [
    "hurricanes.dtypes"
   ]
  },
  {
   "attachments": {},
   "cell_type": "markdown",
   "metadata": {},
   "source": [
    "No null values are found but negative values such as -999 for wind represents null. Lets drop these values from the dataset and convert to NaN."
   ]
  },
  {
   "cell_type": "code",
   "execution_count": null,
   "metadata": {},
   "outputs": [],
   "source": [
    "cols_to_check = ['Maximum Wind', 'Minimum Pressure']\n",
    "negative_mask = (hurricanes[cols_to_check] < 0)\n",
    "hurricanes[cols_to_check] = hurricanes[cols_to_check].mask(negative_mask, np.nan)\n"
   ]
  },
  {
   "cell_type": "code",
   "execution_count": null,
   "metadata": {},
   "outputs": [],
   "source": [
    "negative_exist = ((hurricanes['Maximum Wind'] < 0) | (hurricanes['Minimum Pressure'] < 0)).any()\n",
    "print(\"The number of negative values in the Maximum Wind and Minimum Pressure columns are:\", negative_exist.sum())"
   ]
  },
  {
   "attachments": {},
   "cell_type": "markdown",
   "metadata": {},
   "source": [
    "Dropping hemisphere tags from coordinates"
   ]
  },
  {
   "cell_type": "code",
   "execution_count": null,
   "metadata": {},
   "outputs": [],
   "source": [
    "hurricanes['Latitude'] = hurricanes['Latitude'].str[:-1].astype(float)\n",
    "hurricanes['Longitude'] = hurricanes['Longitude'].str[:-1].astype(float)"
   ]
  },
  {
   "cell_type": "code",
   "execution_count": null,
   "metadata": {},
   "outputs": [],
   "source": [
    "print(hurricanes[['Latitude', 'Longitude']].head())"
   ]
  },
  {
   "attachments": {},
   "cell_type": "markdown",
   "metadata": {},
   "source": [
    "Grouping storms by Max Wind Speed"
   ]
  },
  {
   "cell_type": "code",
   "execution_count": null,
   "metadata": {},
   "outputs": [],
   "source": [
    "max_wind_speeds = hurricanes.loc[hurricanes.groupby('Name')['Maximum Wind'].idxmax(), ['Name', 'Maximum Wind', 'Year', 'Month', 'Latitude', 'Longitude']]\n",
    "max_wind_speeds\n"
   ]
  },
  {
   "cell_type": "code",
   "execution_count": null,
   "metadata": {},
   "outputs": [],
   "source": [
    "max_wind_speeds.to_csv('assets/hurr_wind_speed.csv', index=False)"
   ]
  },
  {
   "attachments": {},
   "cell_type": "markdown",
   "metadata": {},
   "source": [
    "# Classifying hurricanes by the Saffir-Simpson Hurricane Wind Scale (category 1-5)"
   ]
  },
  {
   "cell_type": "code",
   "execution_count": null,
   "metadata": {},
   "outputs": [],
   "source": [
    "max_wind_speeds['category'] = None\n",
    "\n",
    "for index, row in max_wind_speeds.iterrows():\n",
    "    wind_speed = row['Maximum Wind']\n",
    "    if wind_speed >= 74 and wind_speed <= 95:\n",
    "        max_wind_speeds.at[index, 'category'] = 1\n",
    "    elif wind_speed >= 96 and wind_speed <= 110:\n",
    "        max_wind_speeds.at[index, 'category'] = 2\n",
    "    elif wind_speed >= 111 and wind_speed <= 129:\n",
    "        max_wind_speeds.at[index, 'category'] = 3\n",
    "    elif wind_speed >= 130 and wind_speed <= 156:\n",
    "        max_wind_speeds.at[index, 'category'] = 4\n",
    "    elif wind_speed >= 157:\n",
    "        max_wind_speeds.at[index, 'category'] = 5\n",
    "        \n",
    "\n",
    "max_wind_speeds.head()"
   ]
  },
  {
   "attachments": {},
   "cell_type": "markdown",
   "metadata": {},
   "source": [
    "Dropping hurricanes under category 1"
   ]
  },
  {
   "cell_type": "code",
   "execution_count": null,
   "metadata": {},
   "outputs": [],
   "source": [
    "max_wind_speeds.dropna(subset=['category'], inplace=True)"
   ]
  },
  {
   "cell_type": "code",
   "execution_count": null,
   "metadata": {},
   "outputs": [],
   "source": [
    "max_wind_speeds"
   ]
  },
  {
   "attachments": {},
   "cell_type": "markdown",
   "metadata": {},
   "source": [
    "### Feature 3. Visualize your data. Make 3 matplotlib or seaborn visualizations to display your data."
   ]
  },
  {
   "attachments": {},
   "cell_type": "markdown",
   "metadata": {},
   "source": [
    "Looking at the distribution of hurricanes by category "
   ]
  },
  {
   "cell_type": "code",
   "execution_count": null,
   "metadata": {},
   "outputs": [],
   "source": [
    "category_counts = max_wind_speeds[\"category\"].value_counts()\n",
    "fig = px.bar(\n",
    "    x=category_counts.index,\n",
    "    y=category_counts.values,\n",
    "    labels={\"x\": \"Category\", \"y\": \"Count\"}\n",
    ")\n",
    "\n",
    "fig.show()\n"
   ]
  },
  {
   "attachments": {},
   "cell_type": "markdown",
   "metadata": {},
   "source": [
    "Interestingly, there are more Category 3 hurricanes than Category 2"
   ]
  },
  {
   "attachments": {},
   "cell_type": "markdown",
   "metadata": {},
   "source": [
    "Saving max_wind_speeds DF to a new csv"
   ]
  },
  {
   "cell_type": "code",
   "execution_count": null,
   "metadata": {},
   "outputs": [],
   "source": [
    "max_wind_speeds.to_csv('assets/hurr_categories.csv', index=False)"
   ]
  },
  {
   "cell_type": "code",
   "execution_count": null,
   "metadata": {},
   "outputs": [],
   "source": [
    "max_wind_speeds[\"category\"].unique()"
   ]
  },
  {
   "attachments": {},
   "cell_type": "markdown",
   "metadata": {},
   "source": [
    "Sorting the categories for plotting"
   ]
  },
  {
   "cell_type": "code",
   "execution_count": null,
   "metadata": {},
   "outputs": [],
   "source": [
    "category_order = [1, 2, 3, 4, 5]\n",
    "\n",
    "color_scale = [\n",
    "    (0, 'blue'),\n",
    "    (0.25, 'green'),\n",
    "    (0.5, 'yellow'),\n",
    "    (0.75, 'orange'),\n",
    "    (1, 'red')\n",
    "]\n",
    "\n",
    "fig = px.scatter(\n",
    "    max_wind_speeds,\n",
    "    x=\"Year\",\n",
    "    y=\"Maximum Wind\",\n",
    "    color=\"category\",\n",
    "    color_continuous_scale=color_scale,\n",
    "    category_orders={\"category\": category_order}\n",
    ")\n",
    "\n",
    "fig.show()"
   ]
  },
  {
   "attachments": {},
   "cell_type": "markdown",
   "metadata": {},
   "source": [
    "Looking at the distribution of categories by month"
   ]
  },
  {
   "cell_type": "code",
   "execution_count": null,
   "metadata": {},
   "outputs": [],
   "source": [
    "category_order = [1, 2, 3, 4, 5]\n",
    "\n",
    "color_scale = [\n",
    "    (0, 'blue'),\n",
    "    (0.25, 'green'),\n",
    "    (0.5, 'yellow'),\n",
    "    (0.75, 'orange'),\n",
    "    (1, 'red')\n",
    "]\n",
    "\n",
    "grouped = max_wind_speeds.groupby([\"Month\", \"category\"]).size().reset_index(name=\"count\")\n",
    "\n",
    "month_names = [calendar.month_name[i] for i in range(1, 13)]\n",
    "\n",
    "fig = px.bar(\n",
    "    grouped,\n",
    "    x=\"Month\",\n",
    "    y=\"count\",\n",
    "    color=\"category\",\n",
    "    color_discrete_sequence=color_scale,\n",
    "    category_orders={\"category\": category_order},\n",
    "    barmode=\"stack\"\n",
    ")\n",
    "\n",
    "fig.update_layout(\n",
    "    xaxis=dict(\n",
    "        ticktext=month_names,\n",
    "        tickvals=list(range(1, 13))\n",
    "    ),\n",
    "    title={\n",
    "        'text': \"Distribution of categories by month\",\n",
    "        'y':0.95,\n",
    "        'x':0.5,\n",
    "        'xanchor': 'center',\n",
    "        'yanchor': 'top'\n",
    "    }\n",
    ")\n",
    "\n",
    "fig.show()"
   ]
  },
  {
   "attachments": {},
   "cell_type": "markdown",
   "metadata": {},
   "source": [
    "We can see how the majority of hurricanes, and specifically higher intensity storms occur between the months of August to October"
   ]
  },
  {
   "cell_type": "code",
   "execution_count": null,
   "metadata": {},
   "outputs": [],
   "source": [
    "x = max_wind_speeds['Year']\n",
    "y = max_wind_speeds['Maximum Wind']\n",
    "\n",
    "fig = go.Figure()\n",
    "fig.add_trace(go.Scatter(x=x, y=y, mode='markers'))\n",
    "\n",
    "fig.update_layout(title='Maximum Wind Speeds for Each Hurricane By Year', xaxis_title='Year', yaxis_title='Maximum Wind Speed (mph)')\n",
    "\n",
    "fig.show()"
   ]
  },
  {
   "attachments": {},
   "cell_type": "markdown",
   "metadata": {},
   "source": [
    "# Looking at the distribution of Storms per year"
   ]
  },
  {
   "cell_type": "code",
   "execution_count": null,
   "metadata": {},
   "outputs": [],
   "source": [
    "storms_per_year = max_wind_speeds.groupby('Year').size().reset_index(name='Number of storms')\n",
    "max_wind_speeds_with_count = pd.merge(max_wind_speeds, storms_per_year, on='Year')\n",
    "\n",
    "max_wind_speeds_with_count.head()"
   ]
  },
  {
   "cell_type": "code",
   "execution_count": null,
   "metadata": {},
   "outputs": [],
   "source": [
    "x = storms_per_year['Year']\n",
    "y = storms_per_year['Number of storms']\n",
    "\n",
    "fig = go.Figure()\n",
    "fig.add_trace(go.Bar(x=x, y=y, marker_color='blue'))\n",
    "fig.update_layout(title='Number of Hurricanes per Year', xaxis_title='Year', yaxis_title='Number of Hurricanes')\n",
    "\n",
    "fig.show()"
   ]
  },
  {
   "attachments": {},
   "cell_type": "markdown",
   "metadata": {},
   "source": [
    "Since we are looking at hurricane systems that are above category 1, the bar graph above has missing years because the respective years did produce storms of a miminum intensity for analysis. "
   ]
  },
  {
   "attachments": {},
   "cell_type": "markdown",
   "metadata": {},
   "source": [
    "# Merging the datasets "
   ]
  },
  {
   "attachments": {},
   "cell_type": "markdown",
   "metadata": {},
   "source": [
    "### Feature 2. Clean your data and perform a pandas merge with your two data sets, then calculate some new values based on the new data set."
   ]
  },
  {
   "cell_type": "code",
   "execution_count": null,
   "metadata": {},
   "outputs": [],
   "source": [
    "co2.columns\n",
    "max_wind_speeds.columns"
   ]
  },
  {
   "cell_type": "code",
   "execution_count": null,
   "metadata": {},
   "outputs": [],
   "source": [
    "merged_df = pd.merge(co2, max_wind_speeds, on='Year', how='outer')\n",
    "merged_df"
   ]
  },
  {
   "cell_type": "code",
   "execution_count": null,
   "metadata": {},
   "outputs": [],
   "source": [
    "from IPython.display import Image\n",
    "Image(filename='Sheet 1.png')"
   ]
  },
  {
   "attachments": {},
   "cell_type": "markdown",
   "metadata": {},
   "source": [
    "### Feature 5. Interpretation of your data."
   ]
  },
  {
   "attachments": {},
   "cell_type": "markdown",
   "metadata": {},
   "source": [
    "The graph shows two sets of data: the first is the concentration of carbon dioxide (CO2) in the atmosphere over time, and the second is the number of hurricanes per year over the same time period. The graph indicates that the concentration of CO2 in the atmosphere has been steadily increasing over time, which is represented by the upward trend in the blue line.\n",
    "\n",
    "The graph also shows the number of hurricanes per year, which is represented by the bars. The distribution of the number of hurricanes appears to be increasing overall, as the bars get taller over time. However, the distribution is not smooth and the bars do not follow the same pattern as the CO2 data.\n",
    "\n",
    "The graph highlights that in recent years, from 1995 to 2015, there appears to be an increase in the number of powerful hurricane systems, which may be correlated to the rising concentration of CO2 levels. This can be seen in the taller bars during this time period, indicating an increase in the number of strong hurricanes.\n",
    "\n",
    "Overall, the graph suggests that the concentration of CO2 in the atmosphere is steadily increasing, and that there may be a correlation between this increase and the number of powerful hurricane systems in recent years. However, it is important to note that the distribution of the number of hurricanes is not a direct reflection of CO2 concentrations, and other factors such as weather patterns and ocean currents may also play a role in the frequency and intensity of hurricanes."
   ]
  },
  {
   "attachments": {},
   "cell_type": "markdown",
   "metadata": {},
   "source": [
    "### Feature 4. Best Practices. Utilize a virtual environment and include instructions in your README on how the user should set one up"
   ]
  }
 ],
 "metadata": {
  "kernelspec": {
   "display_name": "base",
   "language": "python",
   "name": "python3"
  },
  "language_info": {
   "codemirror_mode": {
    "name": "ipython",
    "version": 3
   },
   "file_extension": ".py",
   "mimetype": "text/x-python",
   "name": "python",
   "nbconvert_exporter": "python",
   "pygments_lexer": "ipython3",
   "version": "3.9.12"
  },
  "orig_nbformat": 4,
  "vscode": {
   "interpreter": {
    "hash": "48e41faaef565d4431114acc2e889204743c5608456c97ea684d523dd5a73b04"
   }
  }
 },
 "nbformat": 4,
 "nbformat_minor": 2
}
